{
  "nbformat": 4,
  "nbformat_minor": 0,
  "metadata": {
    "colab": {
      "name": "Model.ipynb",
      "provenance": [],
      "collapsed_sections": []
    },
    "kernelspec": {
      "name": "python3",
      "display_name": "Python 3"
    },
    "language_info": {
      "name": "python"
    },
    "accelerator": "GPU"
  },
  "cells": [
    {
      "cell_type": "code",
      "source": [
        "from scipy import ndimage\n",
        "import cv2\n",
        "import os\n",
        "import random\n",
        "from google.colab.patches import cv2_imshow\n",
        "import numpy as np\n",
        "from PIL import Image\n",
        "import json\n",
        "from matplotlib import pyplot as plt\n",
        "import pandas as pd\n",
        "import tensorflow as tf\n",
        "from tqdm import tqdm\n",
        "import pickle\n",
        "from tensorflow.keras.utils import to_categorical\n",
        "from tensorflow.keras.preprocessing.image import img_to_array\n",
        "from tensorflow.keras.models import Sequential, load_model\n",
        "from tensorflow.keras.layers import Dense, Dropout, Flatten, Input\n",
        "from tensorflow.keras.layers import Conv2D, MaxPooling2D, BatchNormalization\n",
        "from google.colab import drive"
      ],
      "metadata": {
        "id": "U7vWZLn8iJW8"
      },
      "execution_count": 1,
      "outputs": []
    },
    {
      "cell_type": "code",
      "source": [
        "drive.mount('/content/drive')"
      ],
      "metadata": {
        "colab": {
          "base_uri": "https://localhost:8080/"
        },
        "id": "tqo-cpJBlswT",
        "outputId": "83d10be7-3485-418e-803c-558a9f2a340c"
      },
      "execution_count": 2,
      "outputs": [
        {
          "output_type": "stream",
          "name": "stdout",
          "text": [
            "Mounted at /content/drive\n"
          ]
        }
      ]
    },
    {
      "cell_type": "code",
      "source": [
        "pkl_file = open('/content/drive/MyDrive/myfile.pkl', 'rb')\n",
        "fft_images = pickle.load(pkl_file)\n",
        "pkl_file.close()"
      ],
      "metadata": {
        "id": "y-D2iyB_dqzK"
      },
      "execution_count": 3,
      "outputs": []
    },
    {
      "cell_type": "code",
      "source": [
        "!cp -r /content/drive/MyDrive/scan_doc_rotation ."
      ],
      "metadata": {
        "id": "ca6C0zFKjDSL"
      },
      "execution_count": 4,
      "outputs": []
    },
    {
      "cell_type": "code",
      "source": [
        "path = 'scan_doc_rotation'\n",
        "names = [file for file in os.listdir(f'{path}/images/') ]\n",
        "names = sorted(names)\n",
        "N = len(names)"
      ],
      "metadata": {
        "id": "taCCkIVEkgvS"
      },
      "execution_count": 5,
      "outputs": []
    },
    {
      "cell_type": "code",
      "source": [
        "label_names = [file for file in os.listdir(path+'/labels') ]\n",
        "label_names = sorted(label_names)\n",
        "M = len(label_names)\n",
        "\n",
        "labels = [np.loadtxt(path+'/labels/'+label_names[j]) for j in range(M)]\n",
        "labels = [round(float(labels[j])) for j in range(M)]\n",
        "\n",
        "# Load first 10 labels\n",
        "[print(label_names[i], labels[i]) for i in range(10)]\n",
        "print('Total number of labels', len(labels))"
      ],
      "metadata": {
        "colab": {
          "base_uri": "https://localhost:8080/"
        },
        "id": "28hsGXFFi0oX",
        "outputId": "d184eabc-293f-46ff-8939-494f9eb79a31"
      },
      "execution_count": 6,
      "outputs": [
        {
          "output_type": "stream",
          "name": "stdout",
          "text": [
            "0.txt -2\n",
            "1.txt 1\n",
            "10.txt 5\n",
            "100.txt 5\n",
            "1000.txt -1\n",
            "1001.txt 2\n",
            "1002.txt 4\n",
            "1003.txt -2\n",
            "1004.txt 0\n",
            "1005.txt -3\n",
            "Total number of labels 2350\n"
          ]
        }
      ]
    },
    {
      "cell_type": "code",
      "execution_count": 7,
      "metadata": {
        "colab": {
          "base_uri": "https://localhost:8080/"
        },
        "id": "tTsmCocqJbSH",
        "outputId": "2f2c6275-5775-45ea-9bee-efebd5a26eb7"
      },
      "outputs": [
        {
          "output_type": "stream",
          "name": "stderr",
          "text": [
            "100%|██████████| 2350/2350 [00:00<00:00, 23706.49it/s]\n",
            "100%|██████████| 1880/1880 [00:00<00:00, 1559282.48it/s]\n",
            "100%|██████████| 235/235 [00:00<00:00, 353283.67it/s]\n",
            "100%|██████████| 235/235 [00:00<00:00, 786641.21it/s]\n"
          ]
        }
      ],
      "source": [
        "# Get images into tensor form\n",
        "\n",
        "idxs=list(range(len(labels)))\n",
        "random.shuffle(idxs)\n",
        "\n",
        "image_arr = [tf.keras.preprocessing.image.img_to_array(fft_images[i]) \n",
        "for i in tqdm(range(N))]\n",
        "\n",
        "# get pixel dimensions of image\n",
        "img_height = image_arr[0].shape[0]\n",
        "img_width = image_arr[0].shape[1]\n",
        "\n",
        "# Training, Validation and test image stacks\n",
        "length = len(idxs)\n",
        "train_size=int(.8*length)\n",
        "val_size=int(.1*length)\n",
        "test_size=int(.1*length)\n",
        "\n",
        "train_idxs = idxs[:train_size]\n",
        "val_idxs = idxs[train_size:train_size+val_size]\n",
        "test_idxs = idxs[train_size+val_size:]\n",
        "\n",
        "X_train = tf.stack([image_arr[i] for i in tqdm(train_idxs)], axis=0, name='train_set')\n",
        "X_val = tf.stack([image_arr[i] for i in tqdm(val_idxs)], axis=0, name='val_set')\n",
        "X_test = tf.stack([image_arr[i] for i in tqdm(test_idxs)], axis=0, name='test_set')\n",
        "\n",
        "pixel_count = img_height * img_width\n",
        "\n",
        "# Reshape to 3D Tensor\n",
        "X_train = np.array(X_train).reshape(train_size, pixel_count)\n",
        "X_val = np.array(X_val).reshape(val_size, pixel_count)\n",
        "X_test = np.array(X_test).reshape(test_size, pixel_count)\n",
        "\n",
        "# Normalise pixel values\n",
        "X_train /= 255\n",
        "X_val /= 255\n",
        "X_test /= 255\n",
        "\n"
      ]
    },
    {
      "cell_type": "code",
      "source": [
        "# labels\n",
        "Y_train_ = np.array([labels[i] for i in train_idxs]).reshape(len(train_idxs))\n",
        "Y_val_ = np.array([labels[i] for i in val_idxs]).reshape(len(val_idxs))\n",
        "Y_test_ = np.array([labels[i] for i in test_idxs]).reshape(len(test_idxs))\n",
        "\n",
        "# Check shape of each tensor\n",
        "print(X_train.shape, Y_train_.shape)\n",
        "print(X_val.shape, Y_val_.shape)\n",
        "print(X_test.shape, Y_test_.shape)"
      ],
      "metadata": {
        "colab": {
          "base_uri": "https://localhost:8080/"
        },
        "id": "c1UOZjfttUrB",
        "outputId": "ca7828ff-ab52-420e-8b87-697ee323c4c6"
      },
      "execution_count": 8,
      "outputs": [
        {
          "output_type": "stream",
          "name": "stdout",
          "text": [
            "(1880, 226400) (1880,)\n",
            "(235, 226400) (235,)\n",
            "(235, 226400) (235,)\n"
          ]
        }
      ]
    },
    {
      "cell_type": "code",
      "source": [
        ""
      ],
      "metadata": {
        "id": "0jjVKCLCvcw0"
      },
      "execution_count": 8,
      "outputs": []
    },
    {
      "cell_type": "code",
      "source": [
        "# Show number of unique labels\n",
        "classes = np.unique(Y_train_)\n",
        "print(classes)\n",
        "n_classes = len(np.unique(Y_train_))\n",
        "\n",
        "# Create classes from unique labels\n",
        "Y_train = to_categorical(Y_train_, n_classes)\n",
        "Y_val = to_categorical(Y_val_, n_classes)\n",
        "Y_test = to_categorical(Y_test_, n_classes)\n",
        "print(Y_train.shape, Y_val.shape, Y_test)"
      ],
      "metadata": {
        "colab": {
          "base_uri": "https://localhost:8080/"
        },
        "id": "aQLR3CCDfFlo",
        "outputId": "a9da9644-f79d-49f7-bf4a-84092b5e4bc7"
      },
      "execution_count": 9,
      "outputs": [
        {
          "output_type": "stream",
          "name": "stdout",
          "text": [
            "[-5 -4 -3 -2 -1  0  1  2  3  4  5]\n",
            "(1880, 11) (235, 11) [[0. 0. 1. ... 0. 0. 0.]\n",
            " [0. 0. 1. ... 0. 0. 0.]\n",
            " [0. 0. 0. ... 0. 1. 0.]\n",
            " ...\n",
            " [0. 0. 0. ... 1. 0. 0.]\n",
            " [0. 0. 0. ... 0. 0. 0.]\n",
            " [0. 0. 1. ... 0. 0. 0.]]\n"
          ]
        }
      ]
    },
    {
      "cell_type": "code",
      "source": [
        "model = Sequential()\n",
        "\n",
        "model.add(Dense(512, activation='relu', \n",
        "                 input_shape=(pixel_count,)))\n",
        "\n",
        "model.add(Dense(512, activation='relu'))\n",
        "\n",
        "model.add(Dense(512, activation='relu'))\n",
        "\n",
        "model.add(Dense(512, activation='relu'))\n",
        "model.add(Dropout(0.2))\n",
        "\n",
        "model.add(Dense(512, activation='relu'))\n",
        "model.add(Dropout(0.2))\n",
        "\n",
        "model.add(Dense(n_classes, activation = 'softmax'))"
      ],
      "metadata": {
        "id": "zUROMxtejcY0"
      },
      "execution_count": 10,
      "outputs": []
    },
    {
      "cell_type": "code",
      "source": [
        "model.compile(optimizer = 'adam', \n",
        "             loss = 'categorical_crossentropy', \n",
        "             metrics = ['accuracy'],\n",
        "              )"
      ],
      "metadata": {
        "id": "wtqY0gFbjdy2"
      },
      "execution_count": 11,
      "outputs": []
    },
    {
      "cell_type": "code",
      "source": [
        "checkpoint_filepath = './checkpoint'\n",
        "model_checkpoint_callback = tf.keras.callbacks.ModelCheckpoint(\n",
        "    filepath=checkpoint_filepath,\n",
        "    save_weights_only=True,\n",
        "    monitor='val_loss',\n",
        "    # monitor='loss',\n",
        "    mode='min',\n",
        "    save_best_only=True)"
      ],
      "metadata": {
        "id": "PLRnBp0jjkJt"
      },
      "execution_count": 12,
      "outputs": []
    },
    {
      "cell_type": "code",
      "source": [
        "history = model.fit(X_train, Y_train,validation_data=(X_val, Y_val), batch_size=32, epochs=25, verbose=2,\n",
        "                    callbacks=[model_checkpoint_callback]\n",
        "                    )"
      ],
      "metadata": {
        "colab": {
          "base_uri": "https://localhost:8080/"
        },
        "id": "40ATg_-1jmTo",
        "outputId": "bf0d8c34-8913-4be0-b6a4-247e41f00333"
      },
      "execution_count": 13,
      "outputs": [
        {
          "output_type": "stream",
          "name": "stdout",
          "text": [
            "Epoch 1/25\n",
            "59/59 - 13s - loss: 2.8275 - accuracy: 0.0984 - val_loss: 2.4033 - val_accuracy: 0.0809 - 13s/epoch - 225ms/step\n",
            "Epoch 2/25\n",
            "59/59 - 9s - loss: 2.4065 - accuracy: 0.1112 - val_loss: 2.3438 - val_accuracy: 0.1574 - 9s/epoch - 160ms/step\n",
            "Epoch 3/25\n",
            "59/59 - 9s - loss: 2.2814 - accuracy: 0.1527 - val_loss: 1.9049 - val_accuracy: 0.2426 - 9s/epoch - 155ms/step\n",
            "Epoch 4/25\n",
            "59/59 - 10s - loss: 1.9063 - accuracy: 0.2133 - val_loss: 1.7913 - val_accuracy: 0.2638 - 10s/epoch - 162ms/step\n",
            "Epoch 5/25\n",
            "59/59 - 9s - loss: 1.4007 - accuracy: 0.3899 - val_loss: 1.3549 - val_accuracy: 0.3404 - 9s/epoch - 160ms/step\n",
            "Epoch 6/25\n",
            "59/59 - 4s - loss: 1.0759 - accuracy: 0.5415 - val_loss: 1.4057 - val_accuracy: 0.4511 - 4s/epoch - 62ms/step\n",
            "Epoch 7/25\n",
            "59/59 - 9s - loss: 0.9384 - accuracy: 0.5862 - val_loss: 0.7067 - val_accuracy: 0.7574 - 9s/epoch - 156ms/step\n",
            "Epoch 8/25\n",
            "59/59 - 4s - loss: 0.7916 - accuracy: 0.6957 - val_loss: 1.4186 - val_accuracy: 0.3617 - 4s/epoch - 60ms/step\n",
            "Epoch 9/25\n",
            "59/59 - 4s - loss: 0.6778 - accuracy: 0.7223 - val_loss: 0.7652 - val_accuracy: 0.7234 - 4s/epoch - 60ms/step\n",
            "Epoch 10/25\n",
            "59/59 - 4s - loss: 0.6300 - accuracy: 0.7606 - val_loss: 0.7577 - val_accuracy: 0.6383 - 4s/epoch - 60ms/step\n",
            "Epoch 11/25\n",
            "59/59 - 9s - loss: 0.5736 - accuracy: 0.7473 - val_loss: 0.3603 - val_accuracy: 0.8723 - 9s/epoch - 159ms/step\n",
            "Epoch 12/25\n",
            "59/59 - 4s - loss: 0.8048 - accuracy: 0.7085 - val_loss: 0.8180 - val_accuracy: 0.6638 - 4s/epoch - 63ms/step\n",
            "Epoch 13/25\n",
            "59/59 - 4s - loss: 0.4131 - accuracy: 0.8351 - val_loss: 0.4179 - val_accuracy: 0.8468 - 4s/epoch - 60ms/step\n",
            "Epoch 14/25\n",
            "59/59 - 4s - loss: 0.1993 - accuracy: 0.9319 - val_loss: 0.5517 - val_accuracy: 0.8085 - 4s/epoch - 61ms/step\n",
            "Epoch 15/25\n",
            "59/59 - 4s - loss: 0.2320 - accuracy: 0.9112 - val_loss: 0.4012 - val_accuracy: 0.8426 - 4s/epoch - 60ms/step\n",
            "Epoch 16/25\n",
            "59/59 - 4s - loss: 0.4340 - accuracy: 0.8463 - val_loss: 0.7795 - val_accuracy: 0.7064 - 4s/epoch - 61ms/step\n",
            "Epoch 17/25\n",
            "59/59 - 4s - loss: 0.1525 - accuracy: 0.9532 - val_loss: 1.1991 - val_accuracy: 0.6638 - 4s/epoch - 60ms/step\n",
            "Epoch 18/25\n",
            "59/59 - 4s - loss: 0.0511 - accuracy: 0.9851 - val_loss: 0.4521 - val_accuracy: 0.8681 - 4s/epoch - 60ms/step\n",
            "Epoch 19/25\n",
            "59/59 - 4s - loss: 0.0086 - accuracy: 1.0000 - val_loss: 0.7688 - val_accuracy: 0.8170 - 4s/epoch - 62ms/step\n",
            "Epoch 20/25\n",
            "59/59 - 4s - loss: 0.4780 - accuracy: 0.8702 - val_loss: 0.4314 - val_accuracy: 0.8426 - 4s/epoch - 60ms/step\n",
            "Epoch 21/25\n",
            "59/59 - 9s - loss: 0.0432 - accuracy: 0.9936 - val_loss: 0.2202 - val_accuracy: 0.9149 - 9s/epoch - 157ms/step\n",
            "Epoch 22/25\n",
            "59/59 - 4s - loss: 0.3013 - accuracy: 0.9309 - val_loss: 0.5505 - val_accuracy: 0.7915 - 4s/epoch - 63ms/step\n",
            "Epoch 23/25\n",
            "59/59 - 4s - loss: 0.1426 - accuracy: 0.9596 - val_loss: 0.3982 - val_accuracy: 0.8553 - 4s/epoch - 61ms/step\n",
            "Epoch 24/25\n",
            "59/59 - 4s - loss: 0.0703 - accuracy: 0.9809 - val_loss: 1.0473 - val_accuracy: 0.6979 - 4s/epoch - 60ms/step\n",
            "Epoch 25/25\n",
            "59/59 - 4s - loss: 0.8495 - accuracy: 0.7479 - val_loss: 1.2658 - val_accuracy: 0.5064 - 4s/epoch - 60ms/step\n"
          ]
        }
      ]
    },
    {
      "cell_type": "code",
      "source": [
        "predictions = model.predict(X_test)\n",
        "max_prob = np.argmax(predictions, axis=1)\n",
        "print(max_prob)"
      ],
      "metadata": {
        "colab": {
          "base_uri": "https://localhost:8080/"
        },
        "id": "mmwG0MuVox-o",
        "outputId": "db67a573-f5d8-4346-c4cc-e66293df9f5d"
      },
      "execution_count": 14,
      "outputs": [
        {
          "output_type": "stream",
          "name": "stdout",
          "text": [
            "[ 2 10  9  6 10 10  9 10  4  5  1  6  4  9  9  9  2 10  3  6  3 10 10  5\n",
            " 10  2  7  9  3 10  9  4 10 10  9  5  9  3  4 10  2 10  7  9  6 10  9 10\n",
            "  5  7  2  4  9 10  9  4 10  9  7  7  1  6  4  2  2 10 10  2 10 10  7  7\n",
            " 10  7  9  3  4  2  3  4  4  5  5  7  3  9  7  6  7 10  7 10  5 10 10  5\n",
            " 10 10  9 10  7  4  2  3  2  3  7 10  3 10  9  9 10  7  6  4  7  7  9  2\n",
            " 10  3  4  7  9  5  3  7 10  9 10  4 10  6  7  3  9  3 10  9 10  2  2  7\n",
            " 10  5  9  5  4  2 10 10  7  9  5 10  2  3  9  5  2 10 10  7  7  9  4 10\n",
            "  3  1  3  5 10  7  9  1 10  2  6  7  3  1 10 10  2  2  4  4  9 10  2  7\n",
            "  1 10 10  2 10  7  7 10 10 10  4 10  1  6  5  7 10 10  9  6  4  2  9  3\n",
            "  9 10  4  1 10  9  3  9  2  1  5  7  9  9 10  9  9  4 10]\n"
          ]
        }
      ]
    },
    {
      "cell_type": "code",
      "source": [
        "df = pd.DataFrame({'Image name': [names[i] for i in test_idxs], 'Rotated angle (deg)': classes[max_prob], 'Rotated angle (rad)':classes[max_prob]*3.14/180})\n",
        "df.head(10)"
      ],
      "metadata": {
        "colab": {
          "base_uri": "https://localhost:8080/",
          "height": 363
        },
        "id": "wwKGVA5mo1Pt",
        "outputId": "ae3e0667-d434-4f80-e2fc-0d92f976d689"
      },
      "execution_count": 18,
      "outputs": [
        {
          "output_type": "execute_result",
          "data": {
            "text/plain": [
              "     Image name  Rotated angle (deg)  Rotated angle (rad)\n",
              "0      1006.png                   -3            -0.052333\n",
              "1       458.png                    5             0.087222\n",
              "2       827.png                    4             0.069778\n",
              "3       763.png                    1             0.017444\n",
              "4      1511.png                    5             0.087222\n",
              "5       506.png                    5             0.087222\n",
              "6  scan_188.png                    4             0.069778\n",
              "7       303.png                    5             0.087222\n",
              "8  scan_307.png                   -1            -0.017444\n",
              "9      1348.png                    0             0.000000"
            ],
            "text/html": [
              "\n",
              "  <div id=\"df-27d789c1-90df-4a29-80a4-7793fc2724dd\">\n",
              "    <div class=\"colab-df-container\">\n",
              "      <div>\n",
              "<style scoped>\n",
              "    .dataframe tbody tr th:only-of-type {\n",
              "        vertical-align: middle;\n",
              "    }\n",
              "\n",
              "    .dataframe tbody tr th {\n",
              "        vertical-align: top;\n",
              "    }\n",
              "\n",
              "    .dataframe thead th {\n",
              "        text-align: right;\n",
              "    }\n",
              "</style>\n",
              "<table border=\"1\" class=\"dataframe\">\n",
              "  <thead>\n",
              "    <tr style=\"text-align: right;\">\n",
              "      <th></th>\n",
              "      <th>Image name</th>\n",
              "      <th>Rotated angle (deg)</th>\n",
              "      <th>Rotated angle (rad)</th>\n",
              "    </tr>\n",
              "  </thead>\n",
              "  <tbody>\n",
              "    <tr>\n",
              "      <th>0</th>\n",
              "      <td>1006.png</td>\n",
              "      <td>-3</td>\n",
              "      <td>-0.052333</td>\n",
              "    </tr>\n",
              "    <tr>\n",
              "      <th>1</th>\n",
              "      <td>458.png</td>\n",
              "      <td>5</td>\n",
              "      <td>0.087222</td>\n",
              "    </tr>\n",
              "    <tr>\n",
              "      <th>2</th>\n",
              "      <td>827.png</td>\n",
              "      <td>4</td>\n",
              "      <td>0.069778</td>\n",
              "    </tr>\n",
              "    <tr>\n",
              "      <th>3</th>\n",
              "      <td>763.png</td>\n",
              "      <td>1</td>\n",
              "      <td>0.017444</td>\n",
              "    </tr>\n",
              "    <tr>\n",
              "      <th>4</th>\n",
              "      <td>1511.png</td>\n",
              "      <td>5</td>\n",
              "      <td>0.087222</td>\n",
              "    </tr>\n",
              "    <tr>\n",
              "      <th>5</th>\n",
              "      <td>506.png</td>\n",
              "      <td>5</td>\n",
              "      <td>0.087222</td>\n",
              "    </tr>\n",
              "    <tr>\n",
              "      <th>6</th>\n",
              "      <td>scan_188.png</td>\n",
              "      <td>4</td>\n",
              "      <td>0.069778</td>\n",
              "    </tr>\n",
              "    <tr>\n",
              "      <th>7</th>\n",
              "      <td>303.png</td>\n",
              "      <td>5</td>\n",
              "      <td>0.087222</td>\n",
              "    </tr>\n",
              "    <tr>\n",
              "      <th>8</th>\n",
              "      <td>scan_307.png</td>\n",
              "      <td>-1</td>\n",
              "      <td>-0.017444</td>\n",
              "    </tr>\n",
              "    <tr>\n",
              "      <th>9</th>\n",
              "      <td>1348.png</td>\n",
              "      <td>0</td>\n",
              "      <td>0.000000</td>\n",
              "    </tr>\n",
              "  </tbody>\n",
              "</table>\n",
              "</div>\n",
              "      <button class=\"colab-df-convert\" onclick=\"convertToInteractive('df-27d789c1-90df-4a29-80a4-7793fc2724dd')\"\n",
              "              title=\"Convert this dataframe to an interactive table.\"\n",
              "              style=\"display:none;\">\n",
              "        \n",
              "  <svg xmlns=\"http://www.w3.org/2000/svg\" height=\"24px\"viewBox=\"0 0 24 24\"\n",
              "       width=\"24px\">\n",
              "    <path d=\"M0 0h24v24H0V0z\" fill=\"none\"/>\n",
              "    <path d=\"M18.56 5.44l.94 2.06.94-2.06 2.06-.94-2.06-.94-.94-2.06-.94 2.06-2.06.94zm-11 1L8.5 8.5l.94-2.06 2.06-.94-2.06-.94L8.5 2.5l-.94 2.06-2.06.94zm10 10l.94 2.06.94-2.06 2.06-.94-2.06-.94-.94-2.06-.94 2.06-2.06.94z\"/><path d=\"M17.41 7.96l-1.37-1.37c-.4-.4-.92-.59-1.43-.59-.52 0-1.04.2-1.43.59L10.3 9.45l-7.72 7.72c-.78.78-.78 2.05 0 2.83L4 21.41c.39.39.9.59 1.41.59.51 0 1.02-.2 1.41-.59l7.78-7.78 2.81-2.81c.8-.78.8-2.07 0-2.86zM5.41 20L4 18.59l7.72-7.72 1.47 1.35L5.41 20z\"/>\n",
              "  </svg>\n",
              "      </button>\n",
              "      \n",
              "  <style>\n",
              "    .colab-df-container {\n",
              "      display:flex;\n",
              "      flex-wrap:wrap;\n",
              "      gap: 12px;\n",
              "    }\n",
              "\n",
              "    .colab-df-convert {\n",
              "      background-color: #E8F0FE;\n",
              "      border: none;\n",
              "      border-radius: 50%;\n",
              "      cursor: pointer;\n",
              "      display: none;\n",
              "      fill: #1967D2;\n",
              "      height: 32px;\n",
              "      padding: 0 0 0 0;\n",
              "      width: 32px;\n",
              "    }\n",
              "\n",
              "    .colab-df-convert:hover {\n",
              "      background-color: #E2EBFA;\n",
              "      box-shadow: 0px 1px 2px rgba(60, 64, 67, 0.3), 0px 1px 3px 1px rgba(60, 64, 67, 0.15);\n",
              "      fill: #174EA6;\n",
              "    }\n",
              "\n",
              "    [theme=dark] .colab-df-convert {\n",
              "      background-color: #3B4455;\n",
              "      fill: #D2E3FC;\n",
              "    }\n",
              "\n",
              "    [theme=dark] .colab-df-convert:hover {\n",
              "      background-color: #434B5C;\n",
              "      box-shadow: 0px 1px 3px 1px rgba(0, 0, 0, 0.15);\n",
              "      filter: drop-shadow(0px 1px 2px rgba(0, 0, 0, 0.3));\n",
              "      fill: #FFFFFF;\n",
              "    }\n",
              "  </style>\n",
              "\n",
              "      <script>\n",
              "        const buttonEl =\n",
              "          document.querySelector('#df-27d789c1-90df-4a29-80a4-7793fc2724dd button.colab-df-convert');\n",
              "        buttonEl.style.display =\n",
              "          google.colab.kernel.accessAllowed ? 'block' : 'none';\n",
              "\n",
              "        async function convertToInteractive(key) {\n",
              "          const element = document.querySelector('#df-27d789c1-90df-4a29-80a4-7793fc2724dd');\n",
              "          const dataTable =\n",
              "            await google.colab.kernel.invokeFunction('convertToInteractive',\n",
              "                                                     [key], {});\n",
              "          if (!dataTable) return;\n",
              "\n",
              "          const docLinkHtml = 'Like what you see? Visit the ' +\n",
              "            '<a target=\"_blank\" href=https://colab.research.google.com/notebooks/data_table.ipynb>data table notebook</a>'\n",
              "            + ' to learn more about interactive tables.';\n",
              "          element.innerHTML = '';\n",
              "          dataTable['output_type'] = 'display_data';\n",
              "          await google.colab.output.renderOutput(dataTable, element);\n",
              "          const docLink = document.createElement('div');\n",
              "          docLink.innerHTML = docLinkHtml;\n",
              "          element.appendChild(docLink);\n",
              "        }\n",
              "      </script>\n",
              "    </div>\n",
              "  </div>\n",
              "  "
            ]
          },
          "metadata": {},
          "execution_count": 18
        }
      ]
    },
    {
      "cell_type": "code",
      "source": [
        "fig = plt.figure()\n",
        "plt.subplot(2,1,1)\n",
        "plt.plot(history.history['accuracy'])\n",
        "plt.title('model accuracy')\n",
        "plt.ylabel('accuracy')\n",
        "plt.xlabel('epoch')\n",
        "plt.legend(['train', 'test'], loc='lower right')\n",
        "\n",
        "plt.subplot(2,1,2)\n",
        "plt.plot(history.history['loss'])\n",
        "plt.title('model loss')\n",
        "plt.ylabel('loss')\n",
        "plt.xlabel('epoch')\n",
        "plt.legend(['train', 'test'], loc='upper right')\n",
        "\n",
        "plt.tight_layout()"
      ],
      "metadata": {
        "colab": {
          "base_uri": "https://localhost:8080/",
          "height": 297
        },
        "id": "5DbmICZlo4u8",
        "outputId": "ffff46ef-90a4-4bfa-9f8d-5b99710ca0b9"
      },
      "execution_count": 16,
      "outputs": [
        {
          "output_type": "display_data",
          "data": {
            "text/plain": [
              "<Figure size 432x288 with 2 Axes>"
            ],
            "image/png": "[encoded data removed]"
          },
          "metadata": {
            "needs_background": "light"
          }
        }
      ]
    }
  ]
}